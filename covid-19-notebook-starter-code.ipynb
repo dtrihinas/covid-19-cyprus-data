{
 "cells": [
  {
   "cell_type": "code",
   "execution_count": 40,
   "metadata": {
    "ExecuteTime": {
     "end_time": "2020-03-22T08:47:15.876673Z",
     "start_time": "2020-03-22T08:47:15.866288Z"
    }
   },
   "outputs": [],
   "source": [
    "import numpy as np\n",
    "import pandas as pd \n",
    "import matplotlib.pyplot as plt\n",
    "%matplotlib inline\n",
    "plt.rcParams.update({'font.size': 14})\n",
    "import networkx as nx\n",
    "import re"
   ]
  },
  {
   "cell_type": "code",
   "execution_count": 2,
   "metadata": {
    "ExecuteTime": {
     "end_time": "2020-03-22T08:12:47.137211Z",
     "start_time": "2020-03-22T08:12:46.312489Z"
    }
   },
   "outputs": [
    {
     "data": {
      "text/html": [
       "<div>\n",
       "<style scoped>\n",
       "    .dataframe tbody tr th:only-of-type {\n",
       "        vertical-align: middle;\n",
       "    }\n",
       "\n",
       "    .dataframe tbody tr th {\n",
       "        vertical-align: top;\n",
       "    }\n",
       "\n",
       "    .dataframe thead th {\n",
       "        text-align: right;\n",
       "    }\n",
       "</style>\n",
       "<table border=\"1\" class=\"dataframe\">\n",
       "  <thead>\n",
       "    <tr style=\"text-align: right;\">\n",
       "      <th></th>\n",
       "      <th>date</th>\n",
       "      <th>gender</th>\n",
       "      <th>age</th>\n",
       "      <th>nationality</th>\n",
       "      <th>area</th>\n",
       "      <th>impact</th>\n",
       "      <th>profession</th>\n",
       "      <th>hospitalized</th>\n",
       "      <th>ICU</th>\n",
       "      <th>recovered</th>\n",
       "      <th>relation</th>\n",
       "    </tr>\n",
       "    <tr>\n",
       "      <th>caseid</th>\n",
       "      <th></th>\n",
       "      <th></th>\n",
       "      <th></th>\n",
       "      <th></th>\n",
       "      <th></th>\n",
       "      <th></th>\n",
       "      <th></th>\n",
       "      <th></th>\n",
       "      <th></th>\n",
       "      <th></th>\n",
       "      <th></th>\n",
       "    </tr>\n",
       "  </thead>\n",
       "  <tbody>\n",
       "    <tr>\n",
       "      <th>1</th>\n",
       "      <td>10/03/2020</td>\n",
       "      <td>M</td>\n",
       "      <td>25.0</td>\n",
       "      <td>cypriot</td>\n",
       "      <td>nicosia</td>\n",
       "      <td>travel (italy)</td>\n",
       "      <td>NaN</td>\n",
       "      <td>0</td>\n",
       "      <td>0</td>\n",
       "      <td>1</td>\n",
       "      <td>-1</td>\n",
       "    </tr>\n",
       "    <tr>\n",
       "      <th>2</th>\n",
       "      <td>10/03/2020</td>\n",
       "      <td>M</td>\n",
       "      <td>64.0</td>\n",
       "      <td>cypriot</td>\n",
       "      <td>nicosia</td>\n",
       "      <td>travel (uk)</td>\n",
       "      <td>doctor</td>\n",
       "      <td>0</td>\n",
       "      <td>0</td>\n",
       "      <td>0</td>\n",
       "      <td>-1</td>\n",
       "    </tr>\n",
       "    <tr>\n",
       "      <th>3</th>\n",
       "      <td>11/03/2020</td>\n",
       "      <td>M</td>\n",
       "      <td>NaN</td>\n",
       "      <td>cypriot</td>\n",
       "      <td>nicosia</td>\n",
       "      <td>travel (uk)</td>\n",
       "      <td>NaN</td>\n",
       "      <td>1</td>\n",
       "      <td>0</td>\n",
       "      <td>0</td>\n",
       "      <td>-1</td>\n",
       "    </tr>\n",
       "    <tr>\n",
       "      <th>4</th>\n",
       "      <td>11/03/2020</td>\n",
       "      <td>F</td>\n",
       "      <td>NaN</td>\n",
       "      <td>cypriot</td>\n",
       "      <td>nicosia</td>\n",
       "      <td>travel (uk)</td>\n",
       "      <td>NaN</td>\n",
       "      <td>1</td>\n",
       "      <td>0</td>\n",
       "      <td>0</td>\n",
       "      <td>-1</td>\n",
       "    </tr>\n",
       "    <tr>\n",
       "      <th>5</th>\n",
       "      <td>11/03/2020</td>\n",
       "      <td>NaN</td>\n",
       "      <td>NaN</td>\n",
       "      <td>cypriot</td>\n",
       "      <td>limassol</td>\n",
       "      <td>travel (italy)</td>\n",
       "      <td>NaN</td>\n",
       "      <td>1</td>\n",
       "      <td>0</td>\n",
       "      <td>0</td>\n",
       "      <td>-1</td>\n",
       "    </tr>\n",
       "  </tbody>\n",
       "</table>\n",
       "</div>"
      ],
      "text/plain": [
       "              date gender   age nationality      area          impact  \\\n",
       "caseid                                                                  \n",
       "1       10/03/2020      M  25.0     cypriot   nicosia  travel (italy)   \n",
       "2       10/03/2020      M  64.0     cypriot   nicosia     travel (uk)   \n",
       "3       11/03/2020      M   NaN     cypriot   nicosia     travel (uk)   \n",
       "4       11/03/2020      F   NaN     cypriot   nicosia     travel (uk)   \n",
       "5       11/03/2020    NaN   NaN     cypriot  limassol  travel (italy)   \n",
       "\n",
       "       profession  hospitalized  ICU  recovered relation  \n",
       "caseid                                                    \n",
       "1             NaN             0    0          1       -1  \n",
       "2          doctor             0    0          0       -1  \n",
       "3             NaN             1    0          0       -1  \n",
       "4             NaN             1    0          0       -1  \n",
       "5             NaN             1    0          0       -1  "
      ]
     },
     "execution_count": 2,
     "metadata": {},
     "output_type": "execute_result"
    }
   ],
   "source": [
    "url = 'https://raw.githubusercontent.com/dtrihinas/covid-19-cyprus-data/master/coronavirus_cyprus_data.csv'\n",
    "data = pd.read_csv(url, index_col='caseid')\n",
    "data.head()"
   ]
  },
  {
   "cell_type": "code",
   "execution_count": 3,
   "metadata": {
    "ExecuteTime": {
     "end_time": "2020-03-22T08:12:47.539400Z",
     "start_time": "2020-03-22T08:12:47.141264Z"
    }
   },
   "outputs": [
    {
     "data": {
      "text/plain": [
       "<matplotlib.axes._subplots.AxesSubplot at 0xa1508be80>"
      ]
     },
     "execution_count": 3,
     "metadata": {},
     "output_type": "execute_result"
    },
    {
     "data": {
      "image/png": "[encoded data removed]",
      "text/plain": [
       "<Figure size 1008x432 with 1 Axes>"
      ]
     },
     "metadata": {
      "needs_background": "light"
     },
     "output_type": "display_data"
    }
   ],
   "source": [
    "cum_cases = data.groupby('date').size()\n",
    "cum_cases.plot(figsize=(14,6), title='daily reported cases', rot=45)"
   ]
  },
  {
   "cell_type": "code",
   "execution_count": 4,
   "metadata": {
    "ExecuteTime": {
     "end_time": "2020-03-22T08:12:47.780162Z",
     "start_time": "2020-03-22T08:12:47.542686Z"
    }
   },
   "outputs": [
    {
     "data": {
      "text/plain": [
       "<matplotlib.axes._subplots.AxesSubplot at 0xa162085c0>"
      ]
     },
     "execution_count": 4,
     "metadata": {},
     "output_type": "execute_result"
    },
    {
     "data": {
      "image/png": "[encoded data removed]",
      "text/plain": [
       "<Figure size 720x360 with 1 Axes>"
      ]
     },
     "metadata": {
      "needs_background": "light"
     },
     "output_type": "display_data"
    }
   ],
   "source": [
    "case_impact = data.groupby('impact').size()\n",
    "case_impact.plot(kind='bar',x='impact',y='cases', title='Case impact type', rot=45, figsize=(10,5))"
   ]
  },
  {
   "cell_type": "code",
   "execution_count": 5,
   "metadata": {
    "ExecuteTime": {
     "end_time": "2020-03-22T08:12:48.113799Z",
     "start_time": "2020-03-22T08:12:47.785477Z"
    }
   },
   "outputs": [
    {
     "data": {
      "text/plain": [
       "<matplotlib.axes._subplots.AxesSubplot at 0xa16417198>"
      ]
     },
     "execution_count": 5,
     "metadata": {},
     "output_type": "execute_result"
    },
    {
     "data": {
      "image/png": "[encoded data removed]",
      "text/plain": [
       "<Figure size 1008x360 with 1 Axes>"
      ]
     },
     "metadata": {
      "needs_background": "light"
     },
     "output_type": "display_data"
    }
   ],
   "source": [
    "case_profession = data.groupby('profession').size()\n",
    "unknown_prof = data.index.size - case_profession.sum()\n",
    "case_profession['unknown'] = unknown_prof\n",
    "patients = ~case_profession.index.str.extract(r'(^patient)').isna()[0].values #bool array matching patients\n",
    "total_patient_count = case_profession[patients].sum() #merge patient count from different hospitals\n",
    "case_profession[patients == True] = np.nan\n",
    "case_profession = case_profession.dropna()\n",
    "case_profession['patient'] = total_patient_count\n",
    "case_profession.plot(kind='bar',x='profession',y='cases', title='Case by profession', rot=90, figsize=(14,5))"
   ]
  },
  {
   "cell_type": "code",
   "execution_count": 76,
   "metadata": {
    "ExecuteTime": {
     "end_time": "2020-03-22T09:11:35.962427Z",
     "start_time": "2020-03-22T09:11:35.956538Z"
    }
   },
   "outputs": [
    {
     "name": "stdout",
     "output_type": "stream",
     "text": [
      "[1, 2, 3, 4, 5, 6, 7, 8, 9, 10, 11, 12, 13, 14, 15, 16, 17, 18, 19, 20, 21, 22, 23, 24, 25, 26, 27, 28, 29, 30, 31, 32, 33, 34, 35, 36, 37, 38, 39, 40, 42, 43, 44, 45, 46, 47, 48, 49, 50, 51, 52, 53, 54, 55, 56, 57, 58, 59, 60, 61, 62, 63, 64, 65, 66, 67, 68, 69, 70, 71, 72, 73, 74, 75, 76, 77, 78, 79, 80, 81, 82, 83, 84]\n"
     ]
    }
   ],
   "source": [
    "g = nx.DiGraph()\n",
    "g.add_nodes_from(data.index.values)\n",
    "print(g.nodes())"
   ]
  },
  {
   "cell_type": "code",
   "execution_count": 78,
   "metadata": {
    "ExecuteTime": {
     "end_time": "2020-03-22T09:12:12.498700Z",
     "start_time": "2020-03-22T09:12:12.476774Z"
    }
   },
   "outputs": [
    {
     "data": {
      "text/plain": [
       "[(1, 1),\n",
       " (2, 2),\n",
       " (3, 3),\n",
       " (4, 4),\n",
       " (5, 5),\n",
       " (6, 6),\n",
       " (7, 7),\n",
       " (8, 8),\n",
       " (9, 9),\n",
       " (10, 10),\n",
       " (11, 11),\n",
       " (12, 12),\n",
       " (13, 9),\n",
       " (14, 9),\n",
       " (15, 15),\n",
       " (16, 6),\n",
       " (17, 9),\n",
       " (18, 9),\n",
       " (19, 9),\n",
       " (20, 9),\n",
       " (21, 21),\n",
       " (22, 22),\n",
       " (23, 23),\n",
       " (24, 9),\n",
       " (25, 9),\n",
       " (26, 26),\n",
       " (27, 27),\n",
       " (28, 28),\n",
       " (29, 29),\n",
       " (30, 30),\n",
       " (31, 31),\n",
       " (32, 32),\n",
       " (33, 33),\n",
       " (34, 34),\n",
       " (35, 35),\n",
       " (36, 26),\n",
       " (37, 26),\n",
       " (38, 26),\n",
       " (39, 26),\n",
       " (40, 26),\n",
       " (40, 26),\n",
       " (42, 26),\n",
       " (43, 26),\n",
       " (44, 26),\n",
       " (45, 26),\n",
       " (46, 26),\n",
       " (47, 35),\n",
       " (48, 34),\n",
       " (49, 49),\n",
       " (50, 50),\n",
       " (51, 51),\n",
       " (52, 52),\n",
       " (53, 26),\n",
       " (54, 51),\n",
       " (57, 57),\n",
       " (59, 61),\n",
       " (60, 50),\n",
       " (60, 26),\n",
       " (61, 26),\n",
       " (62, 26),\n",
       " (63, 26),\n",
       " (65, 65),\n",
       " (66, 66),\n",
       " (67, 67),\n",
       " (70, 26),\n",
       " (71, 26),\n",
       " (72, 26),\n",
       " (73, 11),\n",
       " (73, 12),\n",
       " (79, 26),\n",
       " (80, 80),\n",
       " (81, 81),\n",
       " (82, 82),\n",
       " (83, 83),\n",
       " (84, 84)]"
      ]
     },
     "execution_count": 78,
     "metadata": {},
     "output_type": "execute_result"
    }
   ],
   "source": [
    "def upd_edge_list(lst, tup):\n",
    "    if isinstance(tup[1], float):\n",
    "        pass #unknown contact connection\n",
    "    elif tup[1] == '-1':\n",
    "        tup = (int(tup[0]), int(tup[0])) #travel cases link to themselves\n",
    "        lst.append(tup)\n",
    "    elif '{' in tup[1]:\n",
    "        x = re.findall(r'[0-9]+', tup[1]) \n",
    "        for i in x:\n",
    "            lst.append((int(tup[0]), int(i))) #link to multiple cases\n",
    "    else:\n",
    "        lst.append((int(tup[0]),int(tup[1])))\n",
    "\n",
    "elist = []\n",
    "\n",
    "data.apply(lambda row : \n",
    "           upd_edge_list(elist, (row.name, row.relation)), \n",
    "           axis=1)\n",
    "\n",
    "elist"
   ]
  },
  {
   "cell_type": "code",
   "execution_count": 80,
   "metadata": {
    "ExecuteTime": {
     "end_time": "2020-03-22T09:13:06.032933Z",
     "start_time": "2020-03-22T09:13:06.022777Z"
    }
   },
   "outputs": [
    {
     "ename": "SyntaxError",
     "evalue": "positional argument follows keyword argument (<ipython-input-80-a211c814be21>, line 2)",
     "output_type": "error",
     "traceback": [
      "\u001b[0;36m  File \u001b[0;32m\"<ipython-input-80-a211c814be21>\"\u001b[0;36m, line \u001b[0;32m2\u001b[0m\n\u001b[0;31m    nx.draw(g, with_labels = True, pos=nx.spring_layout(g),figsize(15, 5))\u001b[0m\n\u001b[0m                                                          ^\u001b[0m\n\u001b[0;31mSyntaxError\u001b[0m\u001b[0;31m:\u001b[0m positional argument follows keyword argument\n"
     ]
    }
   ],
   "source": [
    "g.add_edges_from(elist)\n",
    "nx.draw(g, with_labels = True, pos=nx.spring_layout(g))\n",
    "plt.show()"
   ]
  },
  {
   "cell_type": "code",
   "execution_count": null,
   "metadata": {},
   "outputs": [],
   "source": []
  }
 ],
 "metadata": {
  "kernelspec": {
   "display_name": "Python 3",
   "language": "python",
   "name": "python3"
  },
  "language_info": {
   "codemirror_mode": {
    "name": "ipython",
    "version": 3
   },
   "file_extension": ".py",
   "mimetype": "text/x-python",
   "name": "python",
   "nbconvert_exporter": "python",
   "pygments_lexer": "ipython3",
   "version": "3.7.3"
  },
  "toc": {
   "base_numbering": 1,
   "nav_menu": {},
   "number_sections": true,
   "sideBar": true,
   "skip_h1_title": false,
   "title_cell": "Table of Contents",
   "title_sidebar": "Contents",
   "toc_cell": false,
   "toc_position": {},
   "toc_section_display": true,
   "toc_window_display": false
  },
  "varInspector": {
   "cols": {
    "lenName": 16,
    "lenType": 16,
    "lenVar": 40
   },
   "kernels_config": {
    "python": {
     "delete_cmd_postfix": "",
     "delete_cmd_prefix": "del ",
     "library": "var_list.py",
     "varRefreshCmd": "print(var_dic_list())"
    },
    "r": {
     "delete_cmd_postfix": ") ",
     "delete_cmd_prefix": "rm(",
     "library": "var_list.r",
     "varRefreshCmd": "cat(var_dic_list()) "
    }
   },
   "types_to_exclude": [
    "module",
    "function",
    "builtin_function_or_method",
    "instance",
    "_Feature"
   ],
   "window_display": false
  }
 },
 "nbformat": 4,
 "nbformat_minor": 2
}
